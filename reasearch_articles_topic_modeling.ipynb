{
 "cells": [
  {
   "cell_type": "code",
   "execution_count": 1,
   "id": "0b14ad51-4a2a-4404-a76c-c919d8a39cc3",
   "metadata": {},
   "outputs": [
    {
     "name": "stdout",
     "output_type": "stream",
     "text": [
      "\n",
      "Top 10 words for each topic:\n",
      "Topic 1: quantum, energy, spin, model, magnetic, phase, field, time, temperature, wave\n",
      "Topic 2: learning, data, model, network, networks, based, algorithm, models, neural, problem\n",
      "Topic 3: mn, doping, floquet, fese, t_c, soc, kitaev, semimetals, mos2, verma\n",
      "Topic 4: qa, nmf, hedging, opioid, password, gerrymandering, hashtags, triad, fuzzing, sequent\n",
      "Topic 5: mathbb, prove, group, mathcal, finite, groups, theorem, spaces, algebra, space\n"
     ]
    }
   ],
   "source": [
    "# Import necessary libraries\n",
    "from sklearn.decomposition import LatentDirichletAllocation\n",
    "from sklearn.feature_extraction.text import TfidfVectorizer\n",
    "import pandas as pd\n",
    "\n",
    "# Function to load research articles dataset\n",
    "def load_data():\n",
    "    df = pd.read_csv('research_articles.csv')\n",
    "    return df['TITLE'] + ' ' + df['ABSTRACT']\n",
    "    \n",
    "# Function to vectorize text data using TfidfVectorizer\n",
    "def vectorize_text_tfidf(text):\n",
    "    vectorizer = TfidfVectorizer(max_df=0.95, min_df=2, stop_words='english')\n",
    "    X_vec = vectorizer.fit_transform(text)\n",
    "    return X_vec, vectorizer\n",
    "    \n",
    "# Function to train a Latent Dirichlet Allocation (LDA) model\n",
    "def train_lda_model(X_vec, num_topics):\n",
    "    lda_model = LatentDirichletAllocation(n_components=num_topics, random_state=42)\n",
    "    lda_model.fit(X_vec)\n",
    "    return lda_model\n",
    "    \n",
    "# Function to display the top words for each topic\n",
    "def display_topics(model, feature_names, num_top_words):\n",
    "    topics = {}\n",
    "    for topic_idx, topic in enumerate(model.components_):\n",
    "        topics[f\"Topic {topic_idx+1}\"] = [feature_names[i] for i in topic.argsort()[:-num_top_words - 1:-1]]\n",
    "    return topics\n",
    "    \n",
    "# Main function for Topic Modeling\n",
    "def main_topic_modeling(text, num_topics=5, num_top_words=10):\n",
    "    # Step 1: Vectorize text data using TfidfVectorizer\n",
    "    X_vec, vectorizer = vectorize_text_tfidf(text)\n",
    "    # Step 2: Train a Latent Dirichlet Allocation (LDA) model\n",
    "    lda_model = train_lda_model(X_vec, num_topics)\n",
    "    # Step 3: Display the top words for each topic\n",
    "    feature_names = vectorizer.get_feature_names_out()\n",
    "    topics = display_topics(lda_model, feature_names, num_top_words)\n",
    "    # Display the topics\n",
    "    print(f\"\\nTop {num_top_words} words for each topic:\")\n",
    "    for topic, words in topics.items():\n",
    "        print(f\"{topic}: {', '.join(words)}\")\n",
    "\n",
    "if __name__ == \"__main__\":\n",
    "    text_data = load_data()\n",
    "    main_topic_modeling(text_data, num_topics=5, num_top_words=10)"
   ]
  },
  {
   "cell_type": "code",
   "execution_count": 3,
   "id": "68815302",
   "metadata": {},
   "outputs": [
    {
     "name": "stdout",
     "output_type": "stream",
     "text": [
      "^C\n",
      "Note: you may need to restart the kernel to use updated packages.\n"
     ]
    }
   ],
   "source": [
    "pip install tensorflow"
   ]
  },
  {
   "cell_type": "code",
   "execution_count": 1,
   "id": "c181293f-7502-4dc0-a17a-0080998dc1c2",
   "metadata": {},
   "outputs": [
    {
     "ename": "ModuleNotFoundError",
     "evalue": "No module named 'tensorflow'",
     "output_type": "error",
     "traceback": [
      "\u001b[1;31m---------------------------------------------------------------------------\u001b[0m",
      "\u001b[1;31mModuleNotFoundError\u001b[0m                       Traceback (most recent call last)",
      "Cell \u001b[1;32mIn[1], line 1\u001b[0m\n\u001b[1;32m----> 1\u001b[0m \u001b[38;5;28;01mimport\u001b[39;00m \u001b[38;5;21;01mtensorflow\u001b[39;00m \u001b[38;5;28;01mas\u001b[39;00m \u001b[38;5;21;01mtf\u001b[39;00m\n\u001b[0;32m      2\u001b[0m \u001b[38;5;28;01mfrom\u001b[39;00m \u001b[38;5;21;01mtensorflow\u001b[39;00m\u001b[38;5;21;01m.\u001b[39;00m\u001b[38;5;21;01mkeras\u001b[39;00m\u001b[38;5;21;01m.\u001b[39;00m\u001b[38;5;21;01mmodels\u001b[39;00m \u001b[38;5;28;01mimport\u001b[39;00m Sequential\n\u001b[0;32m      3\u001b[0m \u001b[38;5;28;01mfrom\u001b[39;00m \u001b[38;5;21;01mtensorflow\u001b[39;00m\u001b[38;5;21;01m.\u001b[39;00m\u001b[38;5;21;01mkeras\u001b[39;00m\u001b[38;5;21;01m.\u001b[39;00m\u001b[38;5;21;01mlayers\u001b[39;00m \u001b[38;5;28;01mimport\u001b[39;00m Embedding, LSTM, Dense\n",
      "\u001b[1;31mModuleNotFoundError\u001b[0m: No module named 'tensorflow'"
     ]
    }
   ],
   "source": [
    "import tensorflow as tf\n",
    "from tensorflow.keras.models import Sequential\n",
    "from tensorflow.keras.layers import Embedding, LSTM, Dense\n",
    "from tensorflow.keras.preprocessing.text import Tokenizer\n",
    "from tensorflow.keras.preprocessing.sequence import pad_sequences\n",
    "\n",
    "# Toy dataset\n",
    "sentences = [\n",
    "    'The cat sat on the',\n",
    "    'In the middle of the',\n",
    "    'She walked into the',\n",
    "    'He looked at her and said,'\n",
    "]\n",
    "\n",
    "# Tokenize the words\n",
    "tokenizer = Tokenizer()\n",
    "tokenizer.fit_on_texts(sentences)\n",
    "total_words = len(tokenizer.word_index) + 1\n",
    "\n",
    "# Create input sequences and labels\n",
    "input_sequences = []\n",
    "for line in sentences:\n",
    "    token_list = tokenizer.texts_to_sequences([line])[0]\n",
    "    for i in range(1, len(token_list)):\n",
    "        n_gram_sequence = token_list[:i+1]\n",
    "        input_sequences.append(n_gram_sequence)\n",
    "\n",
    "max_sequence_length = max(len(seq) for seq in input_sequences)\n",
    "padded_sequences = pad_sequences(input_sequences, maxlen=max_sequence_length, padding='pre')\n",
    "\n",
    "X, y = padded_sequences[:, :-1], padded_sequences[:, -1]\n",
    "y = tf.keras.utils.to_categorical(y, num_classes=total_words)\n",
    "\n",
    "# Build the RNN model\n",
    "model = Sequential()\n",
    "model.add(Embedding(input_dim=total_words, output_dim=100, input_length=max_sequence_length-1))\n",
    "model.add(LSTM(100))\n",
    "model.add(Dense(total_words, activation='softmax'))\n",
    "\n",
    "model.compile(optimizer='adam', loss='categorical_crossentropy', metrics=['accuracy'])\n",
    "\n",
    "# Train the model\n",
    "model.fit(X, y, epochs=100, verbose=1)\n",
    "\n",
    "# Generate text by predicting the next word\n",
    "seed_text = \"He looked at her and said,\"\n",
    "next_words = 5\n",
    "\n",
    "for _ in range(next_words):\n",
    "    token_list = tokenizer.texts_to_sequences([seed_text])[0]\n",
    "    token_list = pad_sequences([token_list], maxlen=max_sequence_length-1, padding='pre')\n",
    "    predicted_index = np.argmax(model.predict(token_list), axis=-1)\n",
    "    predicted_word = tokenizer.index_word[predicted_index[0]]\n",
    "    seed_text += \" \" + predicted_word\n",
    "\n",
    "print(seed_text)"
   ]
  },
  {
   "cell_type": "markdown",
   "id": "880cec09",
   "metadata": {},
   "source": []
  }
 ],
 "metadata": {
  "kernelspec": {
   "display_name": "myenv",
   "language": "python",
   "name": "myenv"
  },
  "language_info": {
   "codemirror_mode": {
    "name": "ipython",
    "version": 3
   },
   "file_extension": ".py",
   "mimetype": "text/x-python",
   "name": "python",
   "nbconvert_exporter": "python",
   "pygments_lexer": "ipython3",
   "version": "3.11.3"
  }
 },
 "nbformat": 4,
 "nbformat_minor": 5
}
