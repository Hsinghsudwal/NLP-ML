{
 "cells": [
  {
   "cell_type": "code",
   "execution_count": 19,
   "id": "69cd29a7-a9da-4e30-9390-d0d9c3fb9766",
   "metadata": {
    "tags": []
   },
   "outputs": [
    {
     "name": "stdout",
     "output_type": "stream",
     "text": [
      "Requirement already satisfied: nltk in c:\\users\\sudwa\\anaconda3\\lib\\site-packages (3.8.1)\n",
      "Requirement already satisfied: click in c:\\users\\sudwa\\anaconda3\\lib\\site-packages (from nltk) (8.1.7)\n",
      "Requirement already satisfied: joblib in c:\\users\\sudwa\\anaconda3\\lib\\site-packages (from nltk) (1.2.0)\n",
      "Requirement already satisfied: regex>=2021.8.3 in c:\\users\\sudwa\\anaconda3\\lib\\site-packages (from nltk) (2022.7.9)\n",
      "Requirement already satisfied: tqdm in c:\\users\\sudwa\\anaconda3\\lib\\site-packages (from nltk) (4.65.0)\n",
      "Requirement already satisfied: colorama in c:\\users\\sudwa\\anaconda3\\lib\\site-packages (from click->nltk) (0.4.6)\n"
     ]
    }
   ],
   "source": [
    "!pip install nltk\n"
   ]
  },
  {
   "cell_type": "code",
   "execution_count": 1,
   "id": "d84f6326-4e2a-4c35-b85b-02e85eaf89e7",
   "metadata": {
    "tags": []
   },
   "outputs": [
    {
     "name": "stderr",
     "output_type": "stream",
     "text": [
      "[nltk_data] Downloading package stopwords to\n",
      "[nltk_data]     C:\\Users\\sudwa\\AppData\\Roaming\\nltk_data...\n",
      "[nltk_data]   Package stopwords is already up-to-date!\n",
      "[nltk_data] Downloading package wordnet to\n",
      "[nltk_data]     C:\\Users\\sudwa\\AppData\\Roaming\\nltk_data...\n",
      "[nltk_data]   Package wordnet is already up-to-date!\n",
      "[nltk_data] Downloading package punkt to\n",
      "[nltk_data]     C:\\Users\\sudwa\\AppData\\Roaming\\nltk_data...\n",
      "[nltk_data]   Package punkt is already up-to-date!\n"
     ]
    }
   ],
   "source": [
    "import pandas as pd\n",
    "import numpy as np\n",
    "import re\n",
    "import matplotlib.pyplot as plt \n",
    "import seaborn as sns\n",
    "import nltk\n",
    "from nltk.corpus import stopwords\n",
    "nltk.download('stopwords')\n",
    "\n",
    "from nltk.stem import WordNetLemmatizer\n",
    "nltk.download('wordnet')\n",
    "from nltk.stem import PorterStemmer\n",
    "nltk.download('punkt')\n",
    "from nltk.stem import WordNetLemmatizer\n",
    "lemmatizer = WordNetLemmatizer()\n",
    "from nltk.tokenize import word_tokenize\n",
    "from nltk.tokenize import sent_tokenize\n",
    "\n",
    "import warnings \n",
    "warnings.filterwarnings(\"ignore\")\n"
   ]
  },
  {
   "cell_type": "markdown",
   "id": "f0b5288b",
   "metadata": {},
   "source": [
    "### Load and EDA dataset"
   ]
  },
  {
   "cell_type": "code",
   "execution_count": 38,
   "id": "643810d5-a1bc-426f-8f67-b337fc314d55",
   "metadata": {
    "tags": []
   },
   "outputs": [
    {
     "data": {
      "text/html": [
       "<div>\n",
       "<style scoped>\n",
       "    .dataframe tbody tr th:only-of-type {\n",
       "        vertical-align: middle;\n",
       "    }\n",
       "\n",
       "    .dataframe tbody tr th {\n",
       "        vertical-align: top;\n",
       "    }\n",
       "\n",
       "    .dataframe thead th {\n",
       "        text-align: right;\n",
       "    }\n",
       "</style>\n",
       "<table border=\"1\" class=\"dataframe\">\n",
       "  <thead>\n",
       "    <tr style=\"text-align: right;\">\n",
       "      <th></th>\n",
       "      <th>link</th>\n",
       "      <th>headline</th>\n",
       "      <th>category</th>\n",
       "      <th>short_description</th>\n",
       "      <th>authors</th>\n",
       "      <th>date</th>\n",
       "    </tr>\n",
       "  </thead>\n",
       "  <tbody>\n",
       "    <tr>\n",
       "      <th>0</th>\n",
       "      <td>https://www.huffpost.com/entry/covid-boosters-...</td>\n",
       "      <td>Over 4 Million Americans Roll Up Sleeves For O...</td>\n",
       "      <td>U.S. NEWS</td>\n",
       "      <td>Health experts said it is too early to predict...</td>\n",
       "      <td>Carla K. Johnson, AP</td>\n",
       "      <td>2022-09-23</td>\n",
       "    </tr>\n",
       "    <tr>\n",
       "      <th>1</th>\n",
       "      <td>https://www.huffpost.com/entry/american-airlin...</td>\n",
       "      <td>American Airlines Flyer Charged, Banned For Li...</td>\n",
       "      <td>U.S. NEWS</td>\n",
       "      <td>He was subdued by passengers and crew when he ...</td>\n",
       "      <td>Mary Papenfuss</td>\n",
       "      <td>2022-09-23</td>\n",
       "    </tr>\n",
       "    <tr>\n",
       "      <th>2</th>\n",
       "      <td>https://www.huffpost.com/entry/funniest-tweets...</td>\n",
       "      <td>23 Of The Funniest Tweets About Cats And Dogs ...</td>\n",
       "      <td>COMEDY</td>\n",
       "      <td>\"Until you have a dog you don't understand wha...</td>\n",
       "      <td>Elyse Wanshel</td>\n",
       "      <td>2022-09-23</td>\n",
       "    </tr>\n",
       "    <tr>\n",
       "      <th>3</th>\n",
       "      <td>https://www.huffpost.com/entry/funniest-parent...</td>\n",
       "      <td>The Funniest Tweets From Parents This Week (Se...</td>\n",
       "      <td>PARENTING</td>\n",
       "      <td>\"Accidentally put grown-up toothpaste on my to...</td>\n",
       "      <td>Caroline Bologna</td>\n",
       "      <td>2022-09-23</td>\n",
       "    </tr>\n",
       "    <tr>\n",
       "      <th>4</th>\n",
       "      <td>https://www.huffpost.com/entry/amy-cooper-lose...</td>\n",
       "      <td>Woman Who Called Cops On Black Bird-Watcher Lo...</td>\n",
       "      <td>U.S. NEWS</td>\n",
       "      <td>Amy Cooper accused investment firm Franklin Te...</td>\n",
       "      <td>Nina Golgowski</td>\n",
       "      <td>2022-09-22</td>\n",
       "    </tr>\n",
       "  </tbody>\n",
       "</table>\n",
       "</div>"
      ],
      "text/plain": [
       "                                                link   \n",
       "0  https://www.huffpost.com/entry/covid-boosters-...  \\\n",
       "1  https://www.huffpost.com/entry/american-airlin...   \n",
       "2  https://www.huffpost.com/entry/funniest-tweets...   \n",
       "3  https://www.huffpost.com/entry/funniest-parent...   \n",
       "4  https://www.huffpost.com/entry/amy-cooper-lose...   \n",
       "\n",
       "                                            headline   category   \n",
       "0  Over 4 Million Americans Roll Up Sleeves For O...  U.S. NEWS  \\\n",
       "1  American Airlines Flyer Charged, Banned For Li...  U.S. NEWS   \n",
       "2  23 Of The Funniest Tweets About Cats And Dogs ...     COMEDY   \n",
       "3  The Funniest Tweets From Parents This Week (Se...  PARENTING   \n",
       "4  Woman Who Called Cops On Black Bird-Watcher Lo...  U.S. NEWS   \n",
       "\n",
       "                                   short_description               authors   \n",
       "0  Health experts said it is too early to predict...  Carla K. Johnson, AP  \\\n",
       "1  He was subdued by passengers and crew when he ...        Mary Papenfuss   \n",
       "2  \"Until you have a dog you don't understand wha...         Elyse Wanshel   \n",
       "3  \"Accidentally put grown-up toothpaste on my to...      Caroline Bologna   \n",
       "4  Amy Cooper accused investment firm Franklin Te...        Nina Golgowski   \n",
       "\n",
       "        date  \n",
       "0 2022-09-23  \n",
       "1 2022-09-23  \n",
       "2 2022-09-23  \n",
       "3 2022-09-23  \n",
       "4 2022-09-22  "
      ]
     },
     "execution_count": 38,
     "metadata": {},
     "output_type": "execute_result"
    }
   ],
   "source": [
    "df = pd.read_json('news_category.json', lines=True)\n",
    "df.head()\n"
   ]
  },
  {
   "cell_type": "code",
   "execution_count": 22,
   "id": "40d6498f-2fbd-497c-a3dc-43b05f40962f",
   "metadata": {
    "tags": []
   },
   "outputs": [
    {
     "name": "stdout",
     "output_type": "stream",
     "text": [
      "<class 'pandas.core.frame.DataFrame'>\n",
      "RangeIndex: 209527 entries, 0 to 209526\n",
      "Data columns (total 6 columns):\n",
      " #   Column             Non-Null Count   Dtype         \n",
      "---  ------             --------------   -----         \n",
      " 0   link               209527 non-null  object        \n",
      " 1   headline           209527 non-null  object        \n",
      " 2   category           209527 non-null  object        \n",
      " 3   short_description  209527 non-null  object        \n",
      " 4   authors            209527 non-null  object        \n",
      " 5   date               209527 non-null  datetime64[ns]\n",
      "dtypes: datetime64[ns](1), object(5)\n",
      "memory usage: 9.6+ MB\n"
     ]
    }
   ],
   "source": [
    "df.info()\n"
   ]
  },
  {
   "cell_type": "code",
   "execution_count": 23,
   "id": "f66173fd-aeef-400b-8bc6-9e19bac86414",
   "metadata": {
    "tags": []
   },
   "outputs": [
    {
     "data": {
      "text/plain": [
       "Index(['link', 'headline', 'category', 'short_description', 'authors', 'date'], dtype='object')"
      ]
     },
     "execution_count": 23,
     "metadata": {},
     "output_type": "execute_result"
    }
   ],
   "source": [
    "df.columns\n"
   ]
  },
  {
   "cell_type": "code",
   "execution_count": 24,
   "id": "85a625cc-b1a6-4757-bab2-5e121026c51a",
   "metadata": {
    "tags": []
   },
   "outputs": [
    {
     "data": {
      "text/plain": [
       "link                 0\n",
       "headline             0\n",
       "category             0\n",
       "short_description    0\n",
       "authors              0\n",
       "date                 0\n",
       "dtype: int64"
      ]
     },
     "execution_count": 24,
     "metadata": {},
     "output_type": "execute_result"
    }
   ],
   "source": [
    "df.isnull().sum()\n"
   ]
  },
  {
   "cell_type": "code",
   "execution_count": 25,
   "id": "c59b265b-d9aa-43e3-b4cb-3d7735e8afb5",
   "metadata": {
    "tags": []
   },
   "outputs": [
    {
     "data": {
      "text/plain": [
       "array(['U.S. NEWS', 'COMEDY', 'PARENTING', 'WORLD NEWS', 'CULTURE & ARTS',\n",
       "       'TECH', 'SPORTS', 'ENTERTAINMENT', 'POLITICS', 'WEIRD NEWS',\n",
       "       'ENVIRONMENT', 'EDUCATION', 'CRIME', 'SCIENCE', 'WELLNESS',\n",
       "       'BUSINESS', 'STYLE & BEAUTY', 'FOOD & DRINK', 'MEDIA',\n",
       "       'QUEER VOICES', 'HOME & LIVING', 'WOMEN', 'BLACK VOICES', 'TRAVEL',\n",
       "       'MONEY', 'RELIGION', 'LATINO VOICES', 'IMPACT', 'WEDDINGS',\n",
       "       'COLLEGE', 'PARENTS', 'ARTS & CULTURE', 'STYLE', 'GREEN', 'TASTE',\n",
       "       'HEALTHY LIVING', 'THE WORLDPOST', 'GOOD NEWS', 'WORLDPOST',\n",
       "       'FIFTY', 'ARTS', 'DIVORCE'], dtype=object)"
      ]
     },
     "execution_count": 25,
     "metadata": {},
     "output_type": "execute_result"
    }
   ],
   "source": [
    "df['category'].unique()\n"
   ]
  },
  {
   "cell_type": "code",
   "execution_count": 26,
   "id": "b5b8f3ec-d581-43dc-86de-ea05a2a0cef6",
   "metadata": {
    "tags": []
   },
   "outputs": [
    {
     "data": {
      "text/plain": [
       "category\n",
       "POLITICS          35602\n",
       "WELLNESS          17945\n",
       "ENTERTAINMENT     17362\n",
       "TRAVEL             9900\n",
       "STYLE & BEAUTY     9814\n",
       "PARENTING          8791\n",
       "HEALTHY LIVING     6694\n",
       "QUEER VOICES       6347\n",
       "FOOD & DRINK       6340\n",
       "BUSINESS           5992\n",
       "COMEDY             5400\n",
       "SPORTS             5077\n",
       "BLACK VOICES       4583\n",
       "HOME & LIVING      4320\n",
       "PARENTS            3955\n",
       "THE WORLDPOST      3664\n",
       "WEDDINGS           3653\n",
       "WOMEN              3572\n",
       "CRIME              3562\n",
       "IMPACT             3484\n",
       "DIVORCE            3426\n",
       "WORLD NEWS         3299\n",
       "MEDIA              2944\n",
       "WEIRD NEWS         2777\n",
       "GREEN              2622\n",
       "WORLDPOST          2579\n",
       "RELIGION           2577\n",
       "STYLE              2254\n",
       "SCIENCE            2206\n",
       "TECH               2104\n",
       "TASTE              2096\n",
       "MONEY              1756\n",
       "ARTS               1509\n",
       "ENVIRONMENT        1444\n",
       "FIFTY              1401\n",
       "GOOD NEWS          1398\n",
       "U.S. NEWS          1377\n",
       "ARTS & CULTURE     1339\n",
       "COLLEGE            1144\n",
       "LATINO VOICES      1130\n",
       "CULTURE & ARTS     1074\n",
       "EDUCATION          1014\n",
       "Name: count, dtype: int64"
      ]
     },
     "execution_count": 26,
     "metadata": {},
     "output_type": "execute_result"
    }
   ],
   "source": [
    "df['category'].value_counts()\n"
   ]
  },
  {
   "cell_type": "code",
   "execution_count": 27,
   "id": "d0aa9505-fe5d-453a-8f75-71e245cacd76",
   "metadata": {
    "tags": []
   },
   "outputs": [],
   "source": [
    "# worldpost and the worldpost\n",
    "df.category = df.category.map(lambda x: \"WORLDPOST\" if x == \"THE WORLDPOST\" else x)\n"
   ]
  },
  {
   "cell_type": "code",
   "execution_count": 28,
   "id": "44adf699-f1dc-44d3-b133-e71a01475121",
   "metadata": {
    "tags": []
   },
   "outputs": [
    {
     "data": {
      "text/plain": [
       "'American Airlines Flyer Charged, Banned For Life After Punching Flight Attendant On Video'"
      ]
     },
     "execution_count": 28,
     "metadata": {},
     "output_type": "execute_result"
    }
   ],
   "source": [
    "df['headline'][1]\n"
   ]
  },
  {
   "cell_type": "code",
   "execution_count": 29,
   "id": "fe791e33-e011-4004-80cb-716e52ed8eea",
   "metadata": {
    "tags": []
   },
   "outputs": [
    {
     "data": {
      "text/plain": [
       "\"He was subdued by passengers and crew when he fled to the back of the aircraft after the confrontation, according to the U.S. attorney's office in Los Angeles.\""
      ]
     },
     "execution_count": 29,
     "metadata": {},
     "output_type": "execute_result"
    }
   ],
   "source": [
    "df['short_description'][1]\n"
   ]
  },
  {
   "cell_type": "markdown",
   "id": "d2c04db8",
   "metadata": {},
   "source": [
    "### Pre-Process"
   ]
  },
  {
   "cell_type": "code",
   "execution_count": 41,
   "id": "7d9bd97d-37ea-423e-a9c7-818d96a93cf8",
   "metadata": {
    "tags": []
   },
   "outputs": [
    {
     "data": {
      "text/plain": [
       "\"American Airlines Flyer Charged, Banned For Life After Punching Flight Attendant On Video He was subdued by passengers and crew when he fled to the back of the aircraft after the confrontation, according to the U.S. attorney's office in Los Angeles.\""
      ]
     },
     "execution_count": 41,
     "metadata": {},
     "output_type": "execute_result"
    }
   ],
   "source": [
    "df['news']=df['headline']+ \" \"+df['short_description']\n",
    "#df.head()\n",
    "df['news'][1]\n"
   ]
  },
  {
   "cell_type": "code",
   "execution_count": 42,
   "id": "1f4603e8-35e3-423b-9621-c11146c6245b",
   "metadata": {
    "tags": []
   },
   "outputs": [],
   "source": [
    "#df=df[['news', 'category']]\n",
    "#df.head(5)\n"
   ]
  },
  {
   "cell_type": "code",
   "execution_count": 43,
   "id": "e4b89a8d-2f4f-4973-89de-72407d7b1dd8",
   "metadata": {
    "tags": []
   },
   "outputs": [
    {
     "data": {
      "text/plain": [
       "<Axes: xlabel='category'>"
      ]
     },
     "execution_count": 43,
     "metadata": {},
     "output_type": "execute_result"
    },
    {
     "data": {
      "image/png": "[encoded data removed]",
      "text/plain": [
       "<Figure size 640x480 with 1 Axes>"
      ]
     },
     "metadata": {},
     "output_type": "display_data"
    }
   ],
   "source": [
    "# check target balance\n",
    "df['category'].value_counts(normalize = True).plot.bar()\n"
   ]
  },
  {
   "cell_type": "code",
   "execution_count": 44,
   "id": "9b021230-b93e-4607-9f5f-947a1d2b0414",
   "metadata": {
    "tags": []
   },
   "outputs": [
    {
     "data": {
      "text/plain": [
       "'Over 4 Million Americans Roll Up Sleeves For Omicron-Targeted COVID Boosters Health experts said it is too early to predict whether demand would match up with the 171 million doses of the new boosters the U.S. ordered for the fall.'"
      ]
     },
     "execution_count": 44,
     "metadata": {},
     "output_type": "execute_result"
    }
   ],
   "source": [
    "df['news'][0]\n"
   ]
  },
  {
   "cell_type": "code",
   "execution_count": 2,
   "id": "c0d2b29c-2990-499c-ae4d-3fc301304d51",
   "metadata": {
    "tags": []
   },
   "outputs": [],
   "source": [
    "# clean the text data using regex and data cleaning function\n",
    "# create a list text\n",
    "import string\n",
    "\n",
    "my_list=[  'news','new', 'amp','time', 'photos',  'get','make','e', 'u','o','s', 'say']\n",
    "def clean_text(text):\n",
    "    r = re.sub('[^a-zA-Z]', ' ', text)\n",
    "    r= re.sub(\"'\", \"\",text)\n",
    "    r=re.sub(\"(\\d|\\W)+\",\" \",text)\n",
    "    r = r.lower()\n",
    "    r = r.split()\n",
    "    r = [word for word in r if word not in stopwords.words('english')]\n",
    "    r = [word for word in r if word not in list(string.punctuation) and word not in my_list]\n",
    "    r = [lemmatizer.lemmatize(word) for word in r]\n",
    "    return ' '.join(r)\n"
   ]
  },
  {
   "cell_type": "code",
   "execution_count": 46,
   "id": "708349b3-be26-43b0-9b77-b2950b559f81",
   "metadata": {
    "tags": []
   },
   "outputs": [
    {
     "data": {
      "text/plain": [
       "'million american roll sleeve omicron targeted covid booster health expert said early predict whether demand would match million dos booster ordered fall'"
      ]
     },
     "execution_count": 46,
     "metadata": {},
     "output_type": "execute_result"
    }
   ],
   "source": [
    "clean_text(df.news[0])\n"
   ]
  },
  {
   "cell_type": "code",
   "execution_count": 47,
   "id": "d0177ea5",
   "metadata": {},
   "outputs": [
    {
     "name": "stdout",
     "output_type": "stream",
     "text": [
      "<class 'pandas.core.frame.DataFrame'>\n",
      "RangeIndex: 6985 entries, 0 to 209520\n",
      "Data columns (total 7 columns):\n",
      " #   Column             Non-Null Count  Dtype         \n",
      "---  ------             --------------  -----         \n",
      " 0   link               6985 non-null   object        \n",
      " 1   headline           6985 non-null   object        \n",
      " 2   category           6985 non-null   object        \n",
      " 3   short_description  6985 non-null   object        \n",
      " 4   authors            6985 non-null   object        \n",
      " 5   date               6985 non-null   datetime64[ns]\n",
      " 6   news               6985 non-null   object        \n",
      "dtypes: datetime64[ns](1), object(6)\n",
      "memory usage: 382.1+ KB\n"
     ]
    }
   ],
   "source": [
    "# Dataset too large\n",
    "df=df[::30]\n",
    "df.info()\n"
   ]
  },
  {
   "cell_type": "code",
   "execution_count": 49,
   "id": "01d52364",
   "metadata": {},
   "outputs": [
    {
     "data": {
      "text/plain": [
       "category\n",
       "POLITICS          1157\n",
       "WELLNESS           598\n",
       "ENTERTAINMENT      563\n",
       "STYLE & BEAUTY     336\n",
       "TRAVEL             334\n",
       "PARENTING          302\n",
       "QUEER VOICES       232\n",
       "HEALTHY LIVING     205\n",
       "BUSINESS           198\n",
       "FOOD & DRINK       198\n",
       "COMEDY             191\n",
       "BLACK VOICES       177\n",
       "SPORTS             172\n",
       "HOME & LIVING      168\n",
       "PARENTS            148\n",
       "THE WORLDPOST      126\n",
       "WORLD NEWS         115\n",
       "WEDDINGS           110\n",
       "IMPACT             109\n",
       "WEIRD NEWS         108\n",
       "DIVORCE            108\n",
       "CRIME              102\n",
       "MEDIA              101\n",
       "GREEN              100\n",
       "WOMEN               96\n",
       "RELIGION            88\n",
       "WORLDPOST           87\n",
       "STYLE               75\n",
       "TECH                68\n",
       "TASTE               68\n",
       "SCIENCE             68\n",
       "MONEY               51\n",
       "COLLEGE             48\n",
       "ARTS & CULTURE      47\n",
       "ENVIRONMENT         46\n",
       "FIFTY               45\n",
       "U.S. NEWS           45\n",
       "GOOD NEWS           44\n",
       "ARTS                41\n",
       "LATINO VOICES       41\n",
       "CULTURE & ARTS      38\n",
       "EDUCATION           31\n",
       "Name: count, dtype: int64"
      ]
     },
     "execution_count": 49,
     "metadata": {},
     "output_type": "execute_result"
    }
   ],
   "source": [
    "df.category.value_counts()\n"
   ]
  },
  {
   "cell_type": "code",
   "execution_count": 50,
   "id": "2a2f90c5-8834-4d80-96be-b3fce708a5f5",
   "metadata": {
    "tags": []
   },
   "outputs": [],
   "source": [
    "df['clean_news']=df['news'].apply(clean_text )\n"
   ]
  },
  {
   "cell_type": "code",
   "execution_count": 51,
   "id": "a4336a4c-c830-400a-a393-10f47358f708",
   "metadata": {
    "tags": []
   },
   "outputs": [
    {
     "data": {
      "text/html": [
       "<div>\n",
       "<style scoped>\n",
       "    .dataframe tbody tr th:only-of-type {\n",
       "        vertical-align: middle;\n",
       "    }\n",
       "\n",
       "    .dataframe tbody tr th {\n",
       "        vertical-align: top;\n",
       "    }\n",
       "\n",
       "    .dataframe thead th {\n",
       "        text-align: right;\n",
       "    }\n",
       "</style>\n",
       "<table border=\"1\" class=\"dataframe\">\n",
       "  <thead>\n",
       "    <tr style=\"text-align: right;\">\n",
       "      <th></th>\n",
       "      <th>link</th>\n",
       "      <th>headline</th>\n",
       "      <th>category</th>\n",
       "      <th>short_description</th>\n",
       "      <th>authors</th>\n",
       "      <th>date</th>\n",
       "      <th>news</th>\n",
       "      <th>clean_news</th>\n",
       "    </tr>\n",
       "  </thead>\n",
       "  <tbody>\n",
       "    <tr>\n",
       "      <th>0</th>\n",
       "      <td>https://www.huffpost.com/entry/covid-boosters-...</td>\n",
       "      <td>Over 4 Million Americans Roll Up Sleeves For O...</td>\n",
       "      <td>U.S. NEWS</td>\n",
       "      <td>Health experts said it is too early to predict...</td>\n",
       "      <td>Carla K. Johnson, AP</td>\n",
       "      <td>2022-09-23</td>\n",
       "      <td>Over 4 Million Americans Roll Up Sleeves For O...</td>\n",
       "      <td>million american roll sleeve omicron targeted ...</td>\n",
       "    </tr>\n",
       "    <tr>\n",
       "      <th>30</th>\n",
       "      <td>https://www.huffpost.com/entry/europe-britain-...</td>\n",
       "      <td>Biden Says Queen's Death Left 'Giant Hole' For...</td>\n",
       "      <td>POLITICS</td>\n",
       "      <td>U.S. President Joe Biden, in London for the fu...</td>\n",
       "      <td>Darlene Superville, AP</td>\n",
       "      <td>2022-09-18</td>\n",
       "      <td>Biden Says Queen's Death Left 'Giant Hole' For...</td>\n",
       "      <td>biden say queen death left giant hole royal fa...</td>\n",
       "    </tr>\n",
       "    <tr>\n",
       "      <th>60</th>\n",
       "      <td>https://www.huffpost.com/entry/tim-scott-senat...</td>\n",
       "      <td>Sen. Tim Scott Downplays Electability Concerns...</td>\n",
       "      <td>POLITICS</td>\n",
       "      <td>\"Who we have on the field is who we’re gonna p...</td>\n",
       "      <td>Marita Vlachou</td>\n",
       "      <td>2022-09-12</td>\n",
       "      <td>Sen. Tim Scott Downplays Electability Concerns...</td>\n",
       "      <td>sen tim scott downplays electability concern s...</td>\n",
       "    </tr>\n",
       "    <tr>\n",
       "      <th>90</th>\n",
       "      <td>https://www.huffpost.com/entry/muslims-tv-char...</td>\n",
       "      <td>Muslims Only Make Up 1% Of Characters On TV, S...</td>\n",
       "      <td>ENTERTAINMENT</td>\n",
       "      <td>In most of the 200 scripted shows that researc...</td>\n",
       "      <td>Rowaida Abdelaziz</td>\n",
       "      <td>2022-09-07</td>\n",
       "      <td>Muslims Only Make Up 1% Of Characters On TV, S...</td>\n",
       "      <td>muslim character tv study find scripted show r...</td>\n",
       "    </tr>\n",
       "    <tr>\n",
       "      <th>120</th>\n",
       "      <td>https://www.huffpost.com/entry/nasa-artemis-ro...</td>\n",
       "      <td>NASA Aims For Saturday Launch Of New Moon Rock...</td>\n",
       "      <td>U.S. NEWS</td>\n",
       "      <td>The inaugural flight of the 322-foot Artemis I...</td>\n",
       "      <td>Marcia Dunn, AP</td>\n",
       "      <td>2022-09-02</td>\n",
       "      <td>NASA Aims For Saturday Launch Of New Moon Rock...</td>\n",
       "      <td>nasa aim saturday launch moon rocket fixing fu...</td>\n",
       "    </tr>\n",
       "  </tbody>\n",
       "</table>\n",
       "</div>"
      ],
      "text/plain": [
       "                                                  link   \n",
       "0    https://www.huffpost.com/entry/covid-boosters-...  \\\n",
       "30   https://www.huffpost.com/entry/europe-britain-...   \n",
       "60   https://www.huffpost.com/entry/tim-scott-senat...   \n",
       "90   https://www.huffpost.com/entry/muslims-tv-char...   \n",
       "120  https://www.huffpost.com/entry/nasa-artemis-ro...   \n",
       "\n",
       "                                              headline       category   \n",
       "0    Over 4 Million Americans Roll Up Sleeves For O...      U.S. NEWS  \\\n",
       "30   Biden Says Queen's Death Left 'Giant Hole' For...       POLITICS   \n",
       "60   Sen. Tim Scott Downplays Electability Concerns...       POLITICS   \n",
       "90   Muslims Only Make Up 1% Of Characters On TV, S...  ENTERTAINMENT   \n",
       "120  NASA Aims For Saturday Launch Of New Moon Rock...      U.S. NEWS   \n",
       "\n",
       "                                     short_description   \n",
       "0    Health experts said it is too early to predict...  \\\n",
       "30   U.S. President Joe Biden, in London for the fu...   \n",
       "60   \"Who we have on the field is who we’re gonna p...   \n",
       "90   In most of the 200 scripted shows that researc...   \n",
       "120  The inaugural flight of the 322-foot Artemis I...   \n",
       "\n",
       "                    authors       date   \n",
       "0      Carla K. Johnson, AP 2022-09-23  \\\n",
       "30   Darlene Superville, AP 2022-09-18   \n",
       "60           Marita Vlachou 2022-09-12   \n",
       "90        Rowaida Abdelaziz 2022-09-07   \n",
       "120         Marcia Dunn, AP 2022-09-02   \n",
       "\n",
       "                                                  news   \n",
       "0    Over 4 Million Americans Roll Up Sleeves For O...  \\\n",
       "30   Biden Says Queen's Death Left 'Giant Hole' For...   \n",
       "60   Sen. Tim Scott Downplays Electability Concerns...   \n",
       "90   Muslims Only Make Up 1% Of Characters On TV, S...   \n",
       "120  NASA Aims For Saturday Launch Of New Moon Rock...   \n",
       "\n",
       "                                            clean_news  \n",
       "0    million american roll sleeve omicron targeted ...  \n",
       "30   biden say queen death left giant hole royal fa...  \n",
       "60   sen tim scott downplays electability concern s...  \n",
       "90   muslim character tv study find scripted show r...  \n",
       "120  nasa aim saturday launch moon rocket fixing fu...  "
      ]
     },
     "execution_count": 51,
     "metadata": {},
     "output_type": "execute_result"
    }
   ],
   "source": [
    "df.head(5)\n"
   ]
  },
  {
   "cell_type": "code",
   "execution_count": 52,
   "id": "72e89c21-dfdc-453a-bf7a-815064505f9a",
   "metadata": {
    "tags": []
   },
   "outputs": [],
   "source": [
    "df.to_csv('cleans_news_category.csv')\n"
   ]
  },
  {
   "cell_type": "code",
   "execution_count": 3,
   "id": "09dabd99-e8fc-4a93-b0b4-7f608d829bb8",
   "metadata": {
    "tags": []
   },
   "outputs": [
    {
     "data": {
      "text/html": [
       "<div>\n",
       "<style scoped>\n",
       "    .dataframe tbody tr th:only-of-type {\n",
       "        vertical-align: middle;\n",
       "    }\n",
       "\n",
       "    .dataframe tbody tr th {\n",
       "        vertical-align: top;\n",
       "    }\n",
       "\n",
       "    .dataframe thead th {\n",
       "        text-align: right;\n",
       "    }\n",
       "</style>\n",
       "<table border=\"1\" class=\"dataframe\">\n",
       "  <thead>\n",
       "    <tr style=\"text-align: right;\">\n",
       "      <th></th>\n",
       "      <th>Unnamed: 0</th>\n",
       "      <th>link</th>\n",
       "      <th>headline</th>\n",
       "      <th>category</th>\n",
       "      <th>short_description</th>\n",
       "      <th>authors</th>\n",
       "      <th>date</th>\n",
       "      <th>news</th>\n",
       "      <th>clean_news</th>\n",
       "    </tr>\n",
       "  </thead>\n",
       "  <tbody>\n",
       "    <tr>\n",
       "      <th>0</th>\n",
       "      <td>0</td>\n",
       "      <td>https://www.huffpost.com/entry/covid-boosters-...</td>\n",
       "      <td>Over 4 Million Americans Roll Up Sleeves For O...</td>\n",
       "      <td>U.S. NEWS</td>\n",
       "      <td>Health experts said it is too early to predict...</td>\n",
       "      <td>Carla K. Johnson, AP</td>\n",
       "      <td>2022-09-23</td>\n",
       "      <td>Over 4 Million Americans Roll Up Sleeves For O...</td>\n",
       "      <td>million american roll sleeve omicron targeted ...</td>\n",
       "    </tr>\n",
       "    <tr>\n",
       "      <th>1</th>\n",
       "      <td>30</td>\n",
       "      <td>https://www.huffpost.com/entry/europe-britain-...</td>\n",
       "      <td>Biden Says Queen's Death Left 'Giant Hole' For...</td>\n",
       "      <td>POLITICS</td>\n",
       "      <td>U.S. President Joe Biden, in London for the fu...</td>\n",
       "      <td>Darlene Superville, AP</td>\n",
       "      <td>2022-09-18</td>\n",
       "      <td>Biden Says Queen's Death Left 'Giant Hole' For...</td>\n",
       "      <td>biden say queen death left giant hole royal fa...</td>\n",
       "    </tr>\n",
       "    <tr>\n",
       "      <th>2</th>\n",
       "      <td>60</td>\n",
       "      <td>https://www.huffpost.com/entry/tim-scott-senat...</td>\n",
       "      <td>Sen. Tim Scott Downplays Electability Concerns...</td>\n",
       "      <td>POLITICS</td>\n",
       "      <td>\"Who we have on the field is who we’re gonna p...</td>\n",
       "      <td>Marita Vlachou</td>\n",
       "      <td>2022-09-12</td>\n",
       "      <td>Sen. Tim Scott Downplays Electability Concerns...</td>\n",
       "      <td>sen tim scott downplays electability concern s...</td>\n",
       "    </tr>\n",
       "    <tr>\n",
       "      <th>3</th>\n",
       "      <td>90</td>\n",
       "      <td>https://www.huffpost.com/entry/muslims-tv-char...</td>\n",
       "      <td>Muslims Only Make Up 1% Of Characters On TV, S...</td>\n",
       "      <td>ENTERTAINMENT</td>\n",
       "      <td>In most of the 200 scripted shows that researc...</td>\n",
       "      <td>Rowaida Abdelaziz</td>\n",
       "      <td>2022-09-07</td>\n",
       "      <td>Muslims Only Make Up 1% Of Characters On TV, S...</td>\n",
       "      <td>muslim character tv study find scripted show r...</td>\n",
       "    </tr>\n",
       "    <tr>\n",
       "      <th>4</th>\n",
       "      <td>120</td>\n",
       "      <td>https://www.huffpost.com/entry/nasa-artemis-ro...</td>\n",
       "      <td>NASA Aims For Saturday Launch Of New Moon Rock...</td>\n",
       "      <td>U.S. NEWS</td>\n",
       "      <td>The inaugural flight of the 322-foot Artemis I...</td>\n",
       "      <td>Marcia Dunn, AP</td>\n",
       "      <td>2022-09-02</td>\n",
       "      <td>NASA Aims For Saturday Launch Of New Moon Rock...</td>\n",
       "      <td>nasa aim saturday launch moon rocket fixing fu...</td>\n",
       "    </tr>\n",
       "  </tbody>\n",
       "</table>\n",
       "</div>"
      ],
      "text/plain": [
       "   Unnamed: 0                                               link   \n",
       "0           0  https://www.huffpost.com/entry/covid-boosters-...  \\\n",
       "1          30  https://www.huffpost.com/entry/europe-britain-...   \n",
       "2          60  https://www.huffpost.com/entry/tim-scott-senat...   \n",
       "3          90  https://www.huffpost.com/entry/muslims-tv-char...   \n",
       "4         120  https://www.huffpost.com/entry/nasa-artemis-ro...   \n",
       "\n",
       "                                            headline       category   \n",
       "0  Over 4 Million Americans Roll Up Sleeves For O...      U.S. NEWS  \\\n",
       "1  Biden Says Queen's Death Left 'Giant Hole' For...       POLITICS   \n",
       "2  Sen. Tim Scott Downplays Electability Concerns...       POLITICS   \n",
       "3  Muslims Only Make Up 1% Of Characters On TV, S...  ENTERTAINMENT   \n",
       "4  NASA Aims For Saturday Launch Of New Moon Rock...      U.S. NEWS   \n",
       "\n",
       "                                   short_description                 authors   \n",
       "0  Health experts said it is too early to predict...    Carla K. Johnson, AP  \\\n",
       "1  U.S. President Joe Biden, in London for the fu...  Darlene Superville, AP   \n",
       "2  \"Who we have on the field is who we’re gonna p...          Marita Vlachou   \n",
       "3  In most of the 200 scripted shows that researc...       Rowaida Abdelaziz   \n",
       "4  The inaugural flight of the 322-foot Artemis I...         Marcia Dunn, AP   \n",
       "\n",
       "         date                                               news   \n",
       "0  2022-09-23  Over 4 Million Americans Roll Up Sleeves For O...  \\\n",
       "1  2022-09-18  Biden Says Queen's Death Left 'Giant Hole' For...   \n",
       "2  2022-09-12  Sen. Tim Scott Downplays Electability Concerns...   \n",
       "3  2022-09-07  Muslims Only Make Up 1% Of Characters On TV, S...   \n",
       "4  2022-09-02  NASA Aims For Saturday Launch Of New Moon Rock...   \n",
       "\n",
       "                                          clean_news  \n",
       "0  million american roll sleeve omicron targeted ...  \n",
       "1  biden say queen death left giant hole royal fa...  \n",
       "2  sen tim scott downplays electability concern s...  \n",
       "3  muslim character tv study find scripted show r...  \n",
       "4  nasa aim saturday launch moon rocket fixing fu...  "
      ]
     },
     "execution_count": 3,
     "metadata": {},
     "output_type": "execute_result"
    }
   ],
   "source": [
    "data = pd.read_csv('cleans_news_category.csv')\n",
    "data.head()\n"
   ]
  },
  {
   "cell_type": "code",
   "execution_count": 4,
   "id": "cb3a329e",
   "metadata": {
    "tags": []
   },
   "outputs": [
    {
     "data": {
      "text/plain": [
       "Unnamed: 0              0\n",
       "link                    0\n",
       "headline                0\n",
       "category                0\n",
       "short_description     678\n",
       "authors              1259\n",
       "date                    0\n",
       "news                    0\n",
       "clean_news              1\n",
       "dtype: int64"
      ]
     },
     "execution_count": 4,
     "metadata": {},
     "output_type": "execute_result"
    }
   ],
   "source": [
    "data.isnull().sum()\n"
   ]
  },
  {
   "cell_type": "code",
   "execution_count": 5,
   "id": "10716bfd-db9a-492e-a679-f9023299f89e",
   "metadata": {
    "tags": []
   },
   "outputs": [],
   "source": [
    "data=data.dropna()\n"
   ]
  },
  {
   "cell_type": "code",
   "execution_count": 6,
   "id": "d99202d1-8a21-43ea-95de-a8f22a2aedf0",
   "metadata": {
    "tags": []
   },
   "outputs": [
    {
     "data": {
      "text/plain": [
       "Unnamed: 0           0\n",
       "link                 0\n",
       "headline             0\n",
       "category             0\n",
       "short_description    0\n",
       "authors              0\n",
       "date                 0\n",
       "news                 0\n",
       "clean_news           0\n",
       "dtype: int64"
      ]
     },
     "execution_count": 6,
     "metadata": {},
     "output_type": "execute_result"
    }
   ],
   "source": [
    "data.isnull().sum()\n"
   ]
  },
  {
   "cell_type": "markdown",
   "id": "e4ae35fa",
   "metadata": {},
   "source": [
    "### Feature Extraction"
   ]
  },
  {
   "cell_type": "code",
   "execution_count": 7,
   "id": "7af6046b-04e1-4e45-bac9-8222c1a1be17",
   "metadata": {
    "tags": []
   },
   "outputs": [
    {
     "data": {
      "text/html": [
       "<div>\n",
       "<style scoped>\n",
       "    .dataframe tbody tr th:only-of-type {\n",
       "        vertical-align: middle;\n",
       "    }\n",
       "\n",
       "    .dataframe tbody tr th {\n",
       "        vertical-align: top;\n",
       "    }\n",
       "\n",
       "    .dataframe thead th {\n",
       "        text-align: right;\n",
       "    }\n",
       "</style>\n",
       "<table border=\"1\" class=\"dataframe\">\n",
       "  <thead>\n",
       "    <tr style=\"text-align: right;\">\n",
       "      <th></th>\n",
       "      <th>Unnamed: 0</th>\n",
       "      <th>link</th>\n",
       "      <th>headline</th>\n",
       "      <th>category</th>\n",
       "      <th>short_description</th>\n",
       "      <th>authors</th>\n",
       "      <th>date</th>\n",
       "      <th>news</th>\n",
       "      <th>clean_news</th>\n",
       "      <th>label_category</th>\n",
       "    </tr>\n",
       "  </thead>\n",
       "  <tbody>\n",
       "    <tr>\n",
       "      <th>0</th>\n",
       "      <td>0</td>\n",
       "      <td>https://www.huffpost.com/entry/covid-boosters-...</td>\n",
       "      <td>Over 4 Million Americans Roll Up Sleeves For O...</td>\n",
       "      <td>U.S. NEWS</td>\n",
       "      <td>Health experts said it is too early to predict...</td>\n",
       "      <td>Carla K. Johnson, AP</td>\n",
       "      <td>2022-09-23</td>\n",
       "      <td>Over 4 Million Americans Roll Up Sleeves For O...</td>\n",
       "      <td>million american roll sleeve omicron targeted ...</td>\n",
       "      <td>35</td>\n",
       "    </tr>\n",
       "    <tr>\n",
       "      <th>1</th>\n",
       "      <td>30</td>\n",
       "      <td>https://www.huffpost.com/entry/europe-britain-...</td>\n",
       "      <td>Biden Says Queen's Death Left 'Giant Hole' For...</td>\n",
       "      <td>POLITICS</td>\n",
       "      <td>U.S. President Joe Biden, in London for the fu...</td>\n",
       "      <td>Darlene Superville, AP</td>\n",
       "      <td>2022-09-18</td>\n",
       "      <td>Biden Says Queen's Death Left 'Giant Hole' For...</td>\n",
       "      <td>biden say queen death left giant hole royal fa...</td>\n",
       "      <td>24</td>\n",
       "    </tr>\n",
       "    <tr>\n",
       "      <th>2</th>\n",
       "      <td>60</td>\n",
       "      <td>https://www.huffpost.com/entry/tim-scott-senat...</td>\n",
       "      <td>Sen. Tim Scott Downplays Electability Concerns...</td>\n",
       "      <td>POLITICS</td>\n",
       "      <td>\"Who we have on the field is who we’re gonna p...</td>\n",
       "      <td>Marita Vlachou</td>\n",
       "      <td>2022-09-12</td>\n",
       "      <td>Sen. Tim Scott Downplays Electability Concerns...</td>\n",
       "      <td>sen tim scott downplays electability concern s...</td>\n",
       "      <td>24</td>\n",
       "    </tr>\n",
       "    <tr>\n",
       "      <th>3</th>\n",
       "      <td>90</td>\n",
       "      <td>https://www.huffpost.com/entry/muslims-tv-char...</td>\n",
       "      <td>Muslims Only Make Up 1% Of Characters On TV, S...</td>\n",
       "      <td>ENTERTAINMENT</td>\n",
       "      <td>In most of the 200 scripted shows that researc...</td>\n",
       "      <td>Rowaida Abdelaziz</td>\n",
       "      <td>2022-09-07</td>\n",
       "      <td>Muslims Only Make Up 1% Of Characters On TV, S...</td>\n",
       "      <td>muslim character tv study find scripted show r...</td>\n",
       "      <td>10</td>\n",
       "    </tr>\n",
       "    <tr>\n",
       "      <th>4</th>\n",
       "      <td>120</td>\n",
       "      <td>https://www.huffpost.com/entry/nasa-artemis-ro...</td>\n",
       "      <td>NASA Aims For Saturday Launch Of New Moon Rock...</td>\n",
       "      <td>U.S. NEWS</td>\n",
       "      <td>The inaugural flight of the 322-foot Artemis I...</td>\n",
       "      <td>Marcia Dunn, AP</td>\n",
       "      <td>2022-09-02</td>\n",
       "      <td>NASA Aims For Saturday Launch Of New Moon Rock...</td>\n",
       "      <td>nasa aim saturday launch moon rocket fixing fu...</td>\n",
       "      <td>35</td>\n",
       "    </tr>\n",
       "  </tbody>\n",
       "</table>\n",
       "</div>"
      ],
      "text/plain": [
       "   Unnamed: 0                                               link   \n",
       "0           0  https://www.huffpost.com/entry/covid-boosters-...  \\\n",
       "1          30  https://www.huffpost.com/entry/europe-britain-...   \n",
       "2          60  https://www.huffpost.com/entry/tim-scott-senat...   \n",
       "3          90  https://www.huffpost.com/entry/muslims-tv-char...   \n",
       "4         120  https://www.huffpost.com/entry/nasa-artemis-ro...   \n",
       "\n",
       "                                            headline       category   \n",
       "0  Over 4 Million Americans Roll Up Sleeves For O...      U.S. NEWS  \\\n",
       "1  Biden Says Queen's Death Left 'Giant Hole' For...       POLITICS   \n",
       "2  Sen. Tim Scott Downplays Electability Concerns...       POLITICS   \n",
       "3  Muslims Only Make Up 1% Of Characters On TV, S...  ENTERTAINMENT   \n",
       "4  NASA Aims For Saturday Launch Of New Moon Rock...      U.S. NEWS   \n",
       "\n",
       "                                   short_description                 authors   \n",
       "0  Health experts said it is too early to predict...    Carla K. Johnson, AP  \\\n",
       "1  U.S. President Joe Biden, in London for the fu...  Darlene Superville, AP   \n",
       "2  \"Who we have on the field is who we’re gonna p...          Marita Vlachou   \n",
       "3  In most of the 200 scripted shows that researc...       Rowaida Abdelaziz   \n",
       "4  The inaugural flight of the 322-foot Artemis I...         Marcia Dunn, AP   \n",
       "\n",
       "         date                                               news   \n",
       "0  2022-09-23  Over 4 Million Americans Roll Up Sleeves For O...  \\\n",
       "1  2022-09-18  Biden Says Queen's Death Left 'Giant Hole' For...   \n",
       "2  2022-09-12  Sen. Tim Scott Downplays Electability Concerns...   \n",
       "3  2022-09-07  Muslims Only Make Up 1% Of Characters On TV, S...   \n",
       "4  2022-09-02  NASA Aims For Saturday Launch Of New Moon Rock...   \n",
       "\n",
       "                                          clean_news  label_category  \n",
       "0  million american roll sleeve omicron targeted ...              35  \n",
       "1  biden say queen death left giant hole royal fa...              24  \n",
       "2  sen tim scott downplays electability concern s...              24  \n",
       "3  muslim character tv study find scripted show r...              10  \n",
       "4  nasa aim saturday launch moon rocket fixing fu...              35  "
      ]
     },
     "execution_count": 7,
     "metadata": {},
     "output_type": "execute_result"
    }
   ],
   "source": [
    "# Now encode the data\n",
    "from sklearn.preprocessing import LabelEncoder\n",
    "label = LabelEncoder()\n",
    "data['label_category'] = label.fit_transform(data['category'])\n",
    "data.head()\n"
   ]
  },
  {
   "cell_type": "code",
   "execution_count": 8,
   "id": "c2d612a2-d5fd-4641-a840-9bc05de46831",
   "metadata": {
    "tags": []
   },
   "outputs": [
    {
     "data": {
      "text/plain": [
       "label_category\n",
       "24    953\n",
       "10    448\n",
       "38    421\n",
       "34    271\n",
       "30    254\n",
       "22    208\n",
       "25    166\n",
       "16    147\n",
       "3     147\n",
       "5     142\n",
       "13    141\n",
       "17    138\n",
       "2     134\n",
       "23    132\n",
       "28    126\n",
       "40     99\n",
       "18     90\n",
       "33     79\n",
       "39     75\n",
       "20     71\n",
       "37     71\n",
       "6      62\n",
       "15     61\n",
       "31     61\n",
       "26     55\n",
       "36     53\n",
       "32     51\n",
       "29     51\n",
       "41     50\n",
       "8      48\n",
       "1      47\n",
       "21     44\n",
       "35     39\n",
       "19     37\n",
       "4      35\n",
       "12     33\n",
       "27     32\n",
       "14     31\n",
       "9      25\n",
       "11     25\n",
       "0      24\n",
       "7      23\n",
       "Name: count, dtype: int64"
      ]
     },
     "execution_count": 8,
     "metadata": {},
     "output_type": "execute_result"
    }
   ],
   "source": [
    "data['label_category'].value_counts()\n"
   ]
  },
  {
   "cell_type": "code",
   "execution_count": 9,
   "id": "e85928a5-7b52-4a78-a73b-5875678d9bf0",
   "metadata": {
    "tags": []
   },
   "outputs": [],
   "source": [
    "# Vectorizing the cleaned columns\n",
    "from sklearn.feature_extraction.text import TfidfVectorizer\n",
    "tfidf = TfidfVectorizer(max_features=5000, stop_words=\"english\")\n",
    "X = tfidf.fit_transform(data.clean_news).toarray()\n"
   ]
  },
  {
   "cell_type": "code",
   "execution_count": 10,
   "id": "68771c1b-9314-45ca-b703-a6d76faa34f3",
   "metadata": {},
   "outputs": [
    {
     "data": {
      "text/plain": [
       "['tfidf.pkl']"
      ]
     },
     "execution_count": 10,
     "metadata": {},
     "output_type": "execute_result"
    }
   ],
   "source": [
    "import joblib\n",
    "joblib.dump(tfidf, 'tfidf.pkl')   #tfidf vectorizer\n"
   ]
  },
  {
   "cell_type": "code",
   "execution_count": 11,
   "id": "813c9996-fb31-4937-bde8-7daee3404e53",
   "metadata": {
    "tags": []
   },
   "outputs": [
    {
     "data": {
      "text/plain": [
       "array([[0., 0., 0., ..., 0., 0., 0.],\n",
       "       [0., 0., 0., ..., 0., 0., 0.],\n",
       "       [0., 0., 0., ..., 0., 0., 0.],\n",
       "       ...,\n",
       "       [0., 0., 0., ..., 0., 0., 0.],\n",
       "       [0., 0., 0., ..., 0., 0., 0.],\n",
       "       [0., 0., 0., ..., 0., 0., 0.]])"
      ]
     },
     "execution_count": 11,
     "metadata": {},
     "output_type": "execute_result"
    }
   ],
   "source": [
    "X\n"
   ]
  },
  {
   "cell_type": "code",
   "execution_count": 12,
   "id": "48816311-9da4-4bd3-abd1-c75bc74cac21",
   "metadata": {
    "tags": []
   },
   "outputs": [
    {
     "data": {
      "text/plain": [
       "0            U.S. NEWS\n",
       "1             POLITICS\n",
       "2             POLITICS\n",
       "3        ENTERTAINMENT\n",
       "4            U.S. NEWS\n",
       "             ...      \n",
       "6977    STYLE & BEAUTY\n",
       "6978            TRAVEL\n",
       "6979    STYLE & BEAUTY\n",
       "6982            SPORTS\n",
       "6983           SCIENCE\n",
       "Name: category, Length: 5200, dtype: object"
      ]
     },
     "execution_count": 12,
     "metadata": {},
     "output_type": "execute_result"
    }
   ],
   "source": [
    "y = data['category']\n",
    "y\n"
   ]
  },
  {
   "cell_type": "code",
   "execution_count": 13,
   "id": "2f385635",
   "metadata": {
    "tags": []
   },
   "outputs": [
    {
     "data": {
      "text/plain": [
       "3501     0\n",
       "4152     0\n",
       "4423     0\n",
       "3618     0\n",
       "4130     0\n",
       "        ..\n",
       "3937    41\n",
       "3217    41\n",
       "3979    41\n",
       "3829    41\n",
       "3425    41\n",
       "Name: label_category, Length: 5200, dtype: int32"
      ]
     },
     "execution_count": 13,
     "metadata": {},
     "output_type": "execute_result"
    }
   ],
   "source": [
    "data['label_category'].sort_values()\n"
   ]
  },
  {
   "cell_type": "markdown",
   "id": "cfd066ac",
   "metadata": {},
   "source": [
    "### Model Selection"
   ]
  },
  {
   "cell_type": "code",
   "execution_count": 14,
   "id": "9cb82909-9ec4-4806-a90b-f5aa4b8ccd7c",
   "metadata": {},
   "outputs": [
    {
     "data": {
      "text/plain": [
       "((4160, 5000), (1040, 5000), (4160,), (1040,))"
      ]
     },
     "execution_count": 14,
     "metadata": {},
     "output_type": "execute_result"
    }
   ],
   "source": [
    "from sklearn.model_selection import train_test_split\n",
    "\n",
    "X_train, X_test, y_train, y_test = train_test_split(X, y, random_state=24, test_size=0.2)\n",
    "\n",
    "X_train.shape, X_test.shape, y_train.shape, y_test.shape\n",
    "     "
   ]
  },
  {
   "cell_type": "markdown",
   "id": "d54e1627",
   "metadata": {},
   "source": [
    "### Training Model"
   ]
  },
  {
   "cell_type": "code",
   "execution_count": 71,
   "id": "68e7c286",
   "metadata": {},
   "outputs": [
    {
     "name": "stdout",
     "output_type": "stream",
     "text": [
      "Collecting xgboostNote: you may need to restart the kernel to use updated packages.\n",
      "\n",
      "  Using cached xgboost-2.0.3-py3-none-win_amd64.whl.metadata (2.0 kB)\n",
      "Requirement already satisfied: numpy in c:\\users\\sudwa\\appdata\\local\\programs\\python\\python311\\lib\\site-packages (from xgboost) (1.24.2)\n",
      "Requirement already satisfied: scipy in c:\\users\\sudwa\\appdata\\local\\programs\\python\\python311\\lib\\site-packages (from xgboost) (1.10.1)\n",
      "Using cached xgboost-2.0.3-py3-none-win_amd64.whl (99.8 MB)\n",
      "Installing collected packages: xgboost\n",
      "Successfully installed xgboost-2.0.3\n"
     ]
    }
   ],
   "source": [
    "pip install xgboost\n"
   ]
  },
  {
   "cell_type": "code",
   "execution_count": 15,
   "id": "231daa79-5879-434e-8fab-ee7757126c5b",
   "metadata": {
    "tags": []
   },
   "outputs": [],
   "source": [
    "\n",
    "from sklearn.metrics import accuracy_score\n",
    "from sklearn.metrics import make_scorer, roc_curve, roc_auc_score\n",
    "from sklearn.metrics import confusion_matrix\n",
    "from sklearn.metrics import classification_report\n",
    "from sklearn.metrics import precision_recall_fscore_support as score\n",
    "from sklearn.multiclass import OneVsRestClassifier\n",
    "from sklearn.svm import SVC, LinearSVC\n",
    "from sklearn.tree import DecisionTreeClassifier\n",
    "from sklearn.ensemble import RandomForestClassifier\n",
    "from sklearn.neighbors import KNeighborsClassifier\n",
    "from sklearn.naive_bayes import GaussianNB,MultinomialNB\n",
    "from sklearn.tree import DecisionTreeClassifier\n",
    "from sklearn.ensemble import AdaBoostClassifier\n",
    "from sklearn.ensemble import BaggingClassifier\n",
    "from sklearn.ensemble import ExtraTreesClassifier\n",
    "from sklearn.ensemble import GradientBoostingClassifier\n",
    "from xgboost import XGBClassifier\n",
    "from sklearn import metrics\n"
   ]
  },
  {
   "cell_type": "code",
   "execution_count": 16,
   "id": "cc484882-2e93-4b5e-a7de-3d66f7e20f90",
   "metadata": {
    "tags": []
   },
   "outputs": [],
   "source": [
    "models=[SVC(),\n",
    "        LinearSVC(),\n",
    "        KNeighborsClassifier(),\n",
    "        MultinomialNB(),\n",
    "        DecisionTreeClassifier(max_depth = 5),\n",
    "        RandomForestClassifier(n_estimators = 100, random_state = 42 ),\n",
    "        AdaBoostClassifier(n_estimators = 50, random_state = 42),\n",
    "        BaggingClassifier(n_estimators = 50, random_state = 42),\n",
    "        ExtraTreesClassifier(n_estimators = 50, random_state = 42),\n",
    "        GradientBoostingClassifier(n_estimators = 50, random_state = 42),\n",
    "        XGBClassifier(n_estimators = 50, random_state = 42),\n",
    "       ]\n"
   ]
  },
  {
   "cell_type": "code",
   "execution_count": 17,
   "id": "2174eff9",
   "metadata": {},
   "outputs": [],
   "source": [
    "#basic\n",
    "#wrap in function\n",
    "perform_list = [ ]\n",
    "for model in models:\n",
    "    #print(model)\n",
    "    oneVsRest = OneVsRestClassifier(model)\n",
    "    #print(oneVsRest)\n",
    "    oneVsRest.fit(X_train, y_train)\n",
    "    y_pred = oneVsRest.predict(X_test)\n",
    "    # Performance metrics\n",
    "    # accuracy = round(accuracy_score(y_test, y_pred) * 100, 2)\n",
    "    accuracy = accuracy_score(y_test, y_pred)\n",
    "    print(accuracy, oneVsRest)\n",
    "    # Get precision, recall, f1 scores\n",
    "    precision, recall, f1score, support = score(y_test, y_pred, average='micro')\n",
    "\n",
    "    # Add performance parameters to list\n",
    "    # perform_list.append(dict([('Model', model),('Accuracy', round(accuracy, 2)),('Precision', round(precision, 2)),('Recall', round(recall, 2)),('F1', round(f1score, 2))]))\n",
    "    perform_list.append(dict([('Model', model),('Accuracy', accuracy),('Precision', precision),('Recall', recall),('F1', f1score)]))\n",
    "    "
   ]
  },
  {
   "cell_type": "code",
   "execution_count": null,
   "id": "93703d33",
   "metadata": {},
   "outputs": [],
   "source": [
    "newlist=pd.DataFrame(perform_list)\n",
    "newlist\n"
   ]
  },
  {
   "cell_type": "code",
   "execution_count": null,
   "id": "5546ccbc-dbb2-48db-89f9-4de2f9985f6c",
   "metadata": {
    "tags": []
   },
   "outputs": [],
   "source": [
    "svc =  SVC(kernel = \"linear\")\n",
    "svc.fit(X_train,y_train)\n",
    "ypredlinear = svc.predict(X_test)\n",
    "accuracy_score(ypredlinear,y_test)\n"
   ]
  },
  {
   "cell_type": "code",
   "execution_count": null,
   "id": "d749977d-af45-4f30-85e1-84db4a407c59",
   "metadata": {},
   "outputs": [],
   "source": [
    "svc =  SVC(kernel = \"rbf\")\n",
    "svc.fit(X_train,y_train)\n",
    "ypredrbf = svc.predict(X_test)\n",
    "accuracy_score(ypredrbf,y_test)\n"
   ]
  },
  {
   "cell_type": "code",
   "execution_count": null,
   "id": "c9448dcf-de00-4e79-87f7-875ef8f18c28",
   "metadata": {},
   "outputs": [],
   "source": [
    "svc =  SVC(kernel = \"poly\")\n",
    "svc.fit(X_train,y_train)\n",
    "ypredpoly = svc.predict(X_test)\n",
    "accuracy_score(ypredpoly,y_test)\n"
   ]
  },
  {
   "cell_type": "code",
   "execution_count": null,
   "id": "3f1251a1-9c78-4248-aeb5-f56b2e5b5e78",
   "metadata": {
    "tags": []
   },
   "outputs": [],
   "source": [
    "svc =  SVC(kernel = \"sigmoid\")\n",
    "svc.fit(X_train,y_train)\n",
    "ypredsig = svc.predict(X_test)\n",
    "accuracy_score(ypredsig,y_test)\n"
   ]
  },
  {
   "cell_type": "markdown",
   "id": "c83a325e",
   "metadata": {},
   "source": [
    "### Best Model"
   ]
  },
  {
   "cell_type": "code",
   "execution_count": null,
   "id": "46e06849-04b0-4969-b53c-745045e6ec61",
   "metadata": {},
   "outputs": [],
   "source": [
    "modelsvc =  SVC(kernel = \"linear\")\n",
    "modelsvc.fit(X_train,y_train)\n",
    "ypredlinear = modelsvc.predict(X_test)\n",
    "accuracy_score(ypredlinear,y_test)\n"
   ]
  },
  {
   "cell_type": "code",
   "execution_count": null,
   "id": "2dcf85e8-5e33-4e30-bcb0-5e26d9703869",
   "metadata": {},
   "outputs": [],
   "source": [
    "# Classification report\n",
    "print('CLASSIFICATIION METRICS')\n",
    "print(metrics.classification_report(y_test, ypredlinear, \n",
    "                                    target_names= df['category'].unique()))\n"
   ]
  },
  {
   "cell_type": "code",
   "execution_count": null,
   "id": "85380788-07e0-4311-a278-4cfc93447ca6",
   "metadata": {},
   "outputs": [],
   "source": [
    "joblib.dump(modelsvc, 'news_classifier_svc.pkl') #classifier\n"
   ]
  },
  {
   "cell_type": "code",
   "execution_count": null,
   "id": "508b2543-f00c-4678-ba56-5161aa1dbe16",
   "metadata": {},
   "outputs": [],
   "source": [
    "### Text Classification\n"
   ]
  },
  {
   "cell_type": "markdown",
   "id": "8352b971",
   "metadata": {},
   "source": [
    "### Text Classification"
   ]
  },
  {
   "cell_type": "code",
   "execution_count": null,
   "id": "1c39d9b1-639b-4f89-931c-57db0b9c0f64",
   "metadata": {},
   "outputs": [],
   "source": [
    "info=df['clean_text'][900]\n",
    "print(info)\n",
    "print(df['category'][900])\n"
   ]
  },
  {
   "cell_type": "code",
   "execution_count": null,
   "id": "03e742ab-721b-44ae-a9e7-b67ddd5fc09e",
   "metadata": {},
   "outputs": [],
   "source": [
    "tf=joblib.load('tfidf.pkl')\n",
    "classi=joblib.load('news_classifier_svc.pkl')\n"
   ]
  },
  {
   "cell_type": "code",
   "execution_count": null,
   "id": "4e7dd6be-c353-413c-a002-434f3278e091",
   "metadata": {},
   "outputs": [],
   "source": [
    "headlines=[clean_text(info)]\n",
    "headlines\n"
   ]
  },
  {
   "cell_type": "code",
   "execution_count": null,
   "id": "6d19c546",
   "metadata": {},
   "outputs": [],
   "source": [
    "y_pred2 = tf.transform(headlines)\n",
    "model_prediction=y_pred2.toarray()\n",
    "classi.predict(model_prediction)[0]\n"
   ]
  },
  {
   "cell_type": "code",
   "execution_count": null,
   "id": "695ecc4b",
   "metadata": {},
   "outputs": [],
   "source": []
  }
 ],
 "metadata": {
  "kernelspec": {
   "display_name": "Python 3",
   "language": "python",
   "name": "python3"
  },
  "language_info": {
   "codemirror_mode": {
    "name": "ipython",
    "version": 3
   },
   "file_extension": ".py",
   "mimetype": "text/x-python",
   "name": "python",
   "nbconvert_exporter": "python",
   "pygments_lexer": "ipython3",
   "version": "3.11.8"
  }
 },
 "nbformat": 4,
 "nbformat_minor": 5
}
