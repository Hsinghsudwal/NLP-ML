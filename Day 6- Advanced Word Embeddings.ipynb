{
 "cells": [
  {
   "cell_type": "markdown",
   "id": "16528e03-9a88-4c03-8cab-19aa623de2f9",
   "metadata": {},
   "source": [
    "# Word2Vec"
   ]
  },
  {
   "cell_type": "code",
   "execution_count": null,
   "id": "208f3abf-7b3f-434d-a86c-e1f3ba31659f",
   "metadata": {},
   "outputs": [],
   "source": [
    "# Code Example with Toy Dataset\n",
    "from gensim.models import Word2Vec\n",
    "from nltk.tokenize import word_tokenize\n",
    "\n",
    "# Toy dataset\n",
    "sentences = [\"I love natural language processing.\", \n",
    "             \"Word embeddings are powerful.\"]\n",
    "\n",
    "# Tokenize sentences\n",
    "tokenized_sentences = [word_tokenize(sentence.lower()) for sentence in sentences]\n",
    "\n",
    "# Train Word2Vec model\n",
    "model = Word2Vec(sentences=tokenized_sentences, vector_size=100, window=5, min_count=1, workers=4)\n",
    "\n",
    "# Access embeddings\n",
    "word_embeddings = model.wv\n",
    "print(word_embeddings['natural'])"
   ]
  },
  {
   "cell_type": "markdown",
   "id": "9e47fa60-036b-4ea8-b9e2-8c918862fec5",
   "metadata": {},
   "source": [
    "# GloVe"
   ]
  },
  {
   "cell_type": "code",
   "execution_count": null,
   "id": "86cb51da-6b26-470c-a233-6b53eae45488",
   "metadata": {},
   "outputs": [],
   "source": [
    "from glove import Corpus, Glove\n",
    "from nltk.tokenize import word_tokenize\n",
    "\n",
    "# Toy dataset\n",
    "sentences = [\"Word embeddings capture semantic meanings.\",\n",
    "             \"GloVe is an impactful word embedding model.\"]\n",
    "\n",
    "# Tokenize sentences\n",
    "tokenized_sentences = [word_tokenize(sentence.lower()) for sentence in sentences]\n",
    "\n",
    "# Creating a corpus object\n",
    "corpus = Corpus() \n",
    "\n",
    "# Training the corpus to generate the co-occurrence matrix\n",
    "corpus.fit(tokenized_sentences, window=10)\n",
    "\n",
    "# Training the GloVe model\n",
    "glove = Glove(no_components=100, learning_rate=0.05)\n",
    "glove.fit(corpus.matrix, epochs=30, no_threads=4, verbose=True)\n",
    "glove.add_dictionary(corpus.dictionary)\n",
    "\n",
    "# Retrieve and display word embeddings\n",
    "word = \"glove\"\n",
    "embedding = glove.word_vectors[glove.dictionary[word]]\n",
    "print(f\"Embedding for '{word}': {embedding}\")"
   ]
  },
  {
   "cell_type": "markdown",
   "id": "41f0c3d2-10a2-4e38-83b5-171dfa8aed23",
   "metadata": {},
   "source": [
    "# FastText"
   ]
  },
  {
   "cell_type": "code",
   "execution_count": null,
   "id": "e8e7a7ef-81a1-4dc1-8563-653cce474b27",
   "metadata": {},
   "outputs": [],
   "source": [
    "from gensim.models import FastText\n",
    "from nltk.tokenize import word_tokenize\n",
    "\n",
    "# Toy dataset\n",
    "sentences = [\"FastText embeddings handle subword information.\",\n",
    "             \"It is effective for various languages.\"]\n",
    "# Tokenize sentences\n",
    "tokenized_sentences = [word_tokenize(sentence.lower()) for sentence in sentences]\n",
    "\n",
    "# Train FastText model\n",
    "model = FastText(sentences=tokenized_sentences, vector_size=100, window=5, min_count=1, workers=4)\n",
    "\n",
    "# Access embeddings\n",
    "word_embeddings = model.wv\n",
    "print(word_embeddings['subword'])"
   ]
  },
  {
   "cell_type": "markdown",
   "id": "f8e48330-0c87-47b0-8338-7e2708b2608e",
   "metadata": {},
   "source": [
    " # Comparision Word Embedding Techniques"
   ]
  },
  {
   "cell_type": "code",
   "execution_count": null,
   "id": "9ea5d45d-be88-4b4b-b1d2-669c8228bf92",
   "metadata": {},
   "outputs": [],
   "source": [
    "# Import necessary libraries\n",
    "from gensim.models import Word2Vec\n",
    "from gensim.models import FastText\n",
    "from glove import Corpus, Glove\n",
    "from sklearn.manifold import TSNE\n",
    "import matplotlib.pyplot as plt\n",
    "\n",
    "# Toy dataset\n",
    "toy_data = [\n",
    "    \"word embeddings are fascinating\",\n",
    "    \"word2vec captures semantic relationships\",\n",
    "    \"GloVe considers global context\",\n",
    "    \"FastText extends Word2Vec with subword information\"\n",
    "]\n",
    "\n",
    "# Function to train Word2Vec model\n",
    "def train_word2vec(data):\n",
    "    model = Word2Vec([sentence.split() for sentence in data], vector_size=100, window=5, min_count=1, workers=4)\n",
    "    return model\n",
    "\n",
    "# Function to train GloVe model\n",
    "def train_glove(data):\n",
    "    corpus = Corpus()\n",
    "    corpus.fit(data, window=5)\n",
    "    glove = Glove(no_components=100, learning_rate=0.05)\n",
    "    glove.fit(corpus.matrix, epochs=30, no_threads=4, verbose=True)\n",
    "    return glove\n",
    "\n",
    "# Function to train FastText model\n",
    "def train_fasttext(data):\n",
    "    model = FastText(sentences=[sentence.split() for sentence in data], vector_size=100, window=5, min_count=1, workers=4)\n",
    "    return model\n",
    "\n",
    "# Function to plot embeddings\n",
    "def plot_embeddings(model, title):\n",
    "    labels = model.wv.index_to_key\n",
    "    vectors = [model.wv[word] for word in labels]\n",
    "    \n",
    "    tsne_model = TSNE(perplexity=40, n_components=2, init='pca', n_iter=2500, random_state=23)\n",
    "    new_values = tsne_model.fit_transform(vectors)\n",
    "\n",
    "    x, y = [], []\n",
    "    for value in new_values:\n",
    "        x.append(value[0])\n",
    "        y.append(value[1])\n",
    "\n",
    "    plt.figure(figsize=(10, 8)) \n",
    "    for i in range(len(x)):\n",
    "        plt.scatter(x[i],y[i])\n",
    "        plt.annotate(labels[i],\n",
    "                     xy=(x[i], y[i]),\n",
    "                     xytext=(5, 2),\n",
    "                     textcoords='offset points',\n",
    "                     ha='right',\n",
    "                     va='bottom')\n",
    "    plt.title(title)\n",
    "    plt.show()\n",
    "\n",
    "# Train models\n",
    "word2vec_model = train_word2vec(toy_data)\n",
    "glove_model = train_glove(toy_data)\n",
    "fasttext_model = train_fasttext(toy_data)\n",
    "\n",
    "# Plot embeddings\n",
    "plot_embeddings(word2vec_model, 'Word2Vec Embeddings')\n",
    "plot_embeddings(glove_model, 'GloVe Embeddings')\n",
    "plot_embeddings(fasttext_model, 'FastText Embeddings')"
   ]
  },
  {
   "cell_type": "code",
   "execution_count": null,
   "id": "73529a52-e61a-45cb-95b9-09365c96fbbb",
   "metadata": {},
   "outputs": [],
   "source": []
  }
 ],
 "metadata": {
  "kernelspec": {
   "display_name": "Python 3",
   "language": "python",
   "name": "python3"
  },
  "language_info": {
   "codemirror_mode": {
    "name": "ipython",
    "version": 3
   },
   "file_extension": ".py",
   "mimetype": "text/x-python",
   "name": "python",
   "nbconvert_exporter": "python",
   "pygments_lexer": "ipython3",
   "version": "3.8.2"
  }
 },
 "nbformat": 4,
 "nbformat_minor": 5
}
